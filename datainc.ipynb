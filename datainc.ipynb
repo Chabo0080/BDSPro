{
 "cells": [
  {
   "cell_type": "code",
   "execution_count": null,
   "metadata": {},
   "outputs": [],
   "source": []
  },
  {
   "cell_type": "code",
   "execution_count": 1,
   "metadata": {},
   "outputs": [],
   "source": [
    "import numpy as np\n",
    "import matplotlib.pyplot as plt\n",
    "from sklearn import cluster, preprocessing"
   ]
  },
  {
   "cell_type": "markdown",
   "metadata": {},
   "source": [
    "### Loading Data:"
   ]
  },
  {
   "cell_type": "markdown",
   "metadata": {},
   "source": [
    "We'll load in the same dataset as before, but we're only going to store a subset of the image this time. We're selecting the pixel range [700:900, 300:500] from the full 1000 x 1000 image, and we'll put that in a numpy array called im:"
   ]
  },
  {
   "cell_type": "code",
   "execution_count": 6,
   "metadata": {},
   "outputs": [],
   "source": [
    "im = np.load('S2_London.npy')[700:900,300:500]"
   ]
  },
  {
   "cell_type": "markdown",
   "metadata": {},
   "source": [
    "### Inspecting the data:"
   ]
  },
  {
   "cell_type": "markdown",
   "metadata": {},
   "source": [
    "To display what those data look like we need to perform image histogram equalization:"
   ]
  },
  {
   "cell_type": "code",
   "execution_count": null,
   "metadata": {},
   "outputs": [],
   "source": [
    "def image_histogram_equalization(image):\n",
    "    \n",
    "    \"\"\" \n",
    "    Function to perform image histogram equalisation.\n",
    "    \n",
    "    Method from: \n",
    "    http://www.janeriksolem.net/2009/06/histogram-equalization-with-python-and.html\n",
    "    \"\"\"\n",
    "    \n",
    "    # get histogram of data values using the numpy histogram function:\n",
    "    image_histogram, bins = np.histogram(image.flatten(), 256, density=True)\n",
    "    \n",
    "    # use this to make a cumulative distribution function:\n",
    "    cdf = image_histogram.cumsum() \n",
    "    \n",
    "    # normalise the CDF:\n",
    "    cdf = (255-1) * cdf / cdf[-1]\n",
    "\n",
    "    # use linear interpolation of the CDF to find new pixel values:\n",
    "    image_equalized = np.interp(image.flatten(), bins[:-1], cdf)\n",
    "    \n",
    "    if len(image.shape) == 3:\n",
    "        return image_equalized.reshape(image.shape).astype('uint8')[:,:,::-1]\n",
    "    else:\n",
    "        return image_equalized.reshape(image.shape).astype('uint8')"
   ]
  },
  {
   "cell_type": "code",
   "execution_count": null,
   "metadata": {},
   "outputs": [],
   "source": [
    "#and plot up the resulting image:\n",
    "\n",
    "\n",
    "im_equalized = image_histogram_equalization(im[:,:,:3])\n",
    "\n",
    "plt.figure(figsize=(8,8))\n",
    "plt.imshow(im_equalized)\n",
    "plt.show()\n",
    "\n"
   ]
  },
  {
   "cell_type": "code",
   "execution_count": null,
   "metadata": {},
   "outputs": [],
   "source": []
  },
  {
   "cell_type": "code",
   "execution_count": null,
   "metadata": {},
   "outputs": [],
   "source": []
  }
 ],
 "metadata": {
  "kernelspec": {
   "display_name": "Python 3",
   "language": "python",
   "name": "python3"
  },
  "language_info": {
   "codemirror_mode": {
    "name": "ipython",
    "version": 3
   },
   "file_extension": ".py",
   "mimetype": "text/x-python",
   "name": "python",
   "nbconvert_exporter": "python",
   "pygments_lexer": "ipython3",
   "version": "3.7.3"
  }
 },
 "nbformat": 4,
 "nbformat_minor": 2
}
